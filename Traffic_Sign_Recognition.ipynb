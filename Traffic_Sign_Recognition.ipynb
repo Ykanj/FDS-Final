{
 "cells": [
  {
   "cell_type": "markdown",
   "metadata": {},
   "source": [
    "1. Import Necessary Libraries"
   ]
  },
  {
   "cell_type": "code",
   "execution_count": null,
   "metadata": {},
   "outputs": [],
   "source": [
    "import numpy as np\n",
    "import pandas as pd\n",
    "import tensorflow as tf\n",
    "from tensorflow.keras import layers, models\n",
    "import cv2\n",
    "import os\n",
    "from sklearn.model_selection import train_test_split\n",
    "import matplotlib.pyplot as plt\n"
   ]
  },
  {
   "cell_type": "markdown",
   "metadata": {},
   "source": [
    "2. Define Utility Functions for Loading and Preprocessing Data"
   ]
  },
  {
   "cell_type": "code",
   "execution_count": null,
   "metadata": {},
   "outputs": [],
   "source": [
    "def load_and_preprocess_image(image_path, img_size=(32, 32)):\n",
    "    image = cv2.imread(image_path)\n",
    "    image = cv2.cvtColor(image, cv2.COLOR_BGR2RGB)\n",
    "    return cv2.resize(image, img_size) / 255.0\n",
    "\n",
    "def load_dataset(dataset_path, csv_file, img_size=(32, 32)):\n",
    "    df = pd.read_csv(csv_file)\n",
    "    images = []\n",
    "    labels = []\n",
    "    for _, row in df.iterrows():\n",
    "        image_path = os.path.join(dataset_path, row['Path'])\n",
    "        images.append(load_and_preprocess_image(image_path, img_size))\n",
    "        labels.append(row['ClassId'])\n",
    "    return np.array(images), np.array(labels)\n"
   ]
  },
  {
   "cell_type": "markdown",
   "metadata": {},
   "source": [
    "3. Load and Split the Dataset"
   ]
  },
  {
   "cell_type": "code",
   "execution_count": null,
   "metadata": {},
   "outputs": [],
   "source": [
    "# Update these paths according to your dataset location\n",
    "TRAIN_PATH = 'path/to/Train'  # Update this\n",
    "TEST_PATH = 'path/to/Test'    # Update this\n",
    "TRAIN_CSV = 'path/to/Train.csv'\n",
    "TEST_CSV = 'path/to/Test.csv'\n",
    "\n",
    "train_images, train_labels = load_dataset(TRAIN_PATH, TRAIN_CSV)\n",
    "test_images, test_labels = load_dataset(TEST_PATH, TEST_CSV)\n",
    "\n",
    "train_images, val_images, train_labels, val_labels = train_test_split(train_images, train_labels, test_size=0.2, random_state=42)\n"
   ]
  },
  {
   "cell_type": "markdown",
   "metadata": {},
   "source": [
    "4. Build the CNN Model"
   ]
  },
  {
   "cell_type": "code",
   "execution_count": null,
   "metadata": {},
   "outputs": [],
   "source": [
    "model = models.Sequential([\n",
    "    layers.Conv2D(32, (3, 3), activation='relu', input_shape=(32, 32, 3)),\n",
    "    layers.MaxPooling2D((2, 2)),\n",
    "    layers.Conv2D(64, (3, 3), activation='relu'),\n",
    "    layers.MaxPooling2D((2, 2)),\n",
    "    layers.Conv2D(64, (3, 3), activation='relu'),\n",
    "    layers.Flatten(),\n",
    "    layers.Dense(64, activation='relu'),\n",
    "    layers.Dense(len(np.unique(train_labels)), activation='softmax')\n",
    "])\n",
    "\n",
    "model.compile(optimizer='adam',\n",
    "              loss='sparse_categorical_crossentropy',\n",
    "              metrics=['accuracy'])\n"
   ]
  },
  {
   "cell_type": "markdown",
   "metadata": {},
   "source": [
    "5. Train the Model"
   ]
  },
  {
   "cell_type": "code",
   "execution_count": null,
   "metadata": {},
   "outputs": [],
   "source": [
    "history = model.fit(train_images, train_labels, epochs=10, validation_data=(val_images, val_labels))\n",
    "\n",
    "plt.plot(history.history['accuracy'], label='Training accuracy')\n",
    "plt.plot(history.history['val_accuracy'], label='Validation accuracy')\n",
    "plt.xlabel('Epoch')\n",
    "plt.ylabel('Accuracy')\n",
    "plt.legend(loc='lower right')\n",
    "plt.show()\n"
   ]
  },
  {
   "cell_type": "markdown",
   "metadata": {},
   "source": [
    "6. Create Adversarial Examples Using FGSM"
   ]
  },
  {
   "cell_type": "code",
   "execution_count": null,
   "metadata": {},
   "outputs": [],
   "source": [
    "def create_adversarial_pattern(input_image, input_label, model):\n",
    "    loss_object = tf.keras.losses.SparseCategoricalCrossentropy()\n",
    "    with tf.GradientTape() as tape:\n",
    "        tape.watch(input_image)\n",
    "        prediction = model(input_image)\n",
    "        loss = loss_object(input_label, prediction)\n",
    "    gradient = tape.gradient(loss, input_image)\n",
    "    signed_grad = tf.sign(gradient)\n",
    "    return signed_grad\n",
    "\n",
    "# Select a subset for adversarial attack demonstration\n",
    "test_subset = test_images[:100]\n",
    "test_labels_subset = test_labels[:100]\n",
    "\n",
    "# Create adversarial images\n",
    "epsilon = 0.1\n",
    "perturbations = create_adversarial_pattern(test_subset, test_labels_subset, model)\n",
    "adversarial_test_images = test_subset + perturbations * epsilon\n"
   ]
  },
  {
   "cell_type": "markdown",
   "metadata": {},
   "source": [
    "7. Evaluate Model Performance on Original and Adversarial Images"
   ]
  },
  {
   "cell_type": "code",
   "execution_count": null,
   "metadata": {},
   "outputs": [],
   "source": [
    "# Original test subset\n",
    "loss, accuracy = model.evaluate(test_subset, test_labels_subset)\n",
    "print(\"Original Model Accuracy: {:.2f}%\".format(accuracy * 100))\n",
    "\n",
    "# Adversarial test subset\n",
    "loss, adversarial_accuracy = model.evaluate(adversarial_test_images, test_labels_subset)\n",
    "print(\"Adversarial Model Accuracy: {:.2f}%\".format(adversarial_accuracy * 100))\n",
    "\n",
    "# Plotting comparison\n",
    "plt.bar(['Original', 'Adversarial'], [accuracy, adversarial_accuracy])\n",
    "plt.ylabel('Accuracy')\n",
    "plt.title('Model Accuracy: Original vs Adversarial')\n",
    "plt.show()\n"
   ]
  },
  {
   "cell_type": "markdown",
   "metadata": {},
   "source": [
    "8. Visualize Some Original and Adversarial Images"
   ]
  },
  {
   "cell_type": "code",
   "execution_count": null,
   "metadata": {},
   "outputs": [],
   "source": [
    "def display_images(image, description):\n",
    "    plt.figure()\n",
    "    plt.imshow(image[0])\n",
    "    plt.title(description)\n",
    "    plt.show()\n",
    "\n",
    "for i in range(3):\n",
    "    display_images(test_subset[i:i+1], \"Original Image\")\n",
    "    display_images(adversarial_test_images[i:i+1], \"Adversarial Image\")\n"
   ]
  },
  {
   "cell_type": "markdown",
   "metadata": {},
   "source": [
    "**DEFENSE**"
   ]
  },
  {
   "cell_type": "markdown",
   "metadata": {},
   "source": [
    "1. Generate Adversarial Training Set"
   ]
  },
  {
   "cell_type": "code",
   "execution_count": null,
   "metadata": {},
   "outputs": [],
   "source": [
    "# Generate adversarial images from a subset of the training set for quick computation\n",
    "train_subset = train_images[:1000]  # Use a larger subset if computational resources allow\n",
    "train_labels_subset = train_labels[:1000]\n",
    "\n",
    "epsilon = 0.1\n",
    "train_perturbations = create_adversarial_pattern(train_subset, train_labels_subset, model)\n",
    "adversarial_train_images = train_subset + train_perturbations * epsilon\n",
    "\n",
    "# Combine the adversarial images with the original training set\n",
    "combined_train_images = np.concatenate((train_images, adversarial_train_images), axis=0)\n",
    "combined_train_labels = np.concatenate((train_labels, train_labels_subset), axis=0)\n"
   ]
  },
  {
   "cell_type": "markdown",
   "metadata": {},
   "source": [
    "2. Retrain the Model with the Adversarial Training Set"
   ]
  },
  {
   "cell_type": "code",
   "execution_count": null,
   "metadata": {},
   "outputs": [],
   "source": [
    "model_adversarial_trained = models.clone_model(model)\n",
    "model_adversarial_trained.compile(optimizer='adam', loss='sparse_categorical_crossentropy', metrics=['accuracy'])\n",
    "\n",
    "history_adversarial = model_adversarial_trained.fit(combined_train_images, combined_train_labels, epochs=10, validation_data=(val_images, val_labels))\n",
    "\n",
    "plt.plot(history_adversarial.history['accuracy'], label='Training accuracy')\n",
    "plt.plot(history_adversarial.history['val_accuracy'], label='Validation accuracy')\n",
    "plt.xlabel('Epoch')\n",
    "plt.ylabel('Accuracy')\n",
    "plt.legend(loc='lower right')\n",
    "plt.show()\n"
   ]
  },
  {
   "cell_type": "markdown",
   "metadata": {},
   "source": [
    "3. Evaluate the Model Performance After Adversarial Training"
   ]
  },
  {
   "cell_type": "code",
   "execution_count": null,
   "metadata": {},
   "outputs": [],
   "source": [
    "# Original test subset\n",
    "loss, accuracy = model_adversarial_trained.evaluate(test_subset, test_labels_subset)\n",
    "print(\"Adversarially Trained Model Accuracy on Original Images: {:.2f}%\".format(accuracy * 100))\n",
    "\n",
    "# Adversarial test subset\n",
    "loss, adversarial_accuracy = model_adversarial_trained.evaluate(adversarial_test_images, test_labels_subset)\n",
    "print(\"Adversarially Trained Model Accuracy on Adversarial Images: {:.2f}%\".format(adversarial_accuracy * 100))\n",
    "\n",
    "# Plotting comparison\n",
    "plt.bar(['Original - After Defense', 'Adversarial - After Defense'], [accuracy, adversarial_accuracy])\n",
    "plt.ylabel('Accuracy')\n",
    "plt.title('Model Accuracy After Adversarial Training')\n",
    "plt.show()\n"
   ]
  },
  {
   "cell_type": "markdown",
   "metadata": {},
   "source": [
    "4. Visualize the Effectiveness of the Defense Strategy"
   ]
  },
  {
   "cell_type": "code",
   "execution_count": null,
   "metadata": {},
   "outputs": [],
   "source": [
    "# Before Adversarial Training\n",
    "plt.bar(['Original - Before Defense', 'Adversarial - Before Defense'], [accuracy_before, adversarial_accuracy_before], alpha=0.6, color='red')\n",
    "\n",
    "# After Adversarial Training\n",
    "plt.bar(['Original - After Defense', 'Adversarial - After Defense'], [accuracy, adversarial_accuracy], alpha=0.6, color='green')\n",
    "\n",
    "plt.ylabel('Accuracy')\n",
    "plt.title('Model Accuracy Comparison')\n",
    "plt.legend(['Before Defense', 'After Defense'], loc='lower right')\n",
    "plt.show()\n"
   ]
  }
 ],
 "metadata": {
  "language_info": {
   "name": "python"
  }
 },
 "nbformat": 4,
 "nbformat_minor": 2
}
